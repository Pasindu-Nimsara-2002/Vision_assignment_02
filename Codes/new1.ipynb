import cv2 as cv
import numpy as np
import matplotlib.pyplot as plt

# Load the image
image = cv.imread('images/the_berry_farms_sunflower_field.jpeg', cv.IMREAD_REDUCED_COLOR_4)

# Convert the image to grayscale
gray = cv.cvtColor(image, cv.COLOR_BGR2GRAY)

# Define range of sigma values
sigma_values = np.arange(1.0, 10.0, 0.5)  # Range of σ values

# Create a 3D array to hold the results of the LoG for each sigma
blob_log = np.zeros((gray.shape[0], gray.shape[1], len(sigma_values)))

# Apply Gaussian Blur and Laplacian for each sigma
for i, sigma in enumerate(sigma_values):
    # Apply Gaussian blur
    blurred = cv.GaussianBlur(gray, (0, 0), sigma)
    
    # Apply Laplacian
    laplacian = cv.Laplacian(blurred, cv.CV_64F)
    
    # Normalize the response by multiplying by sigma^2 (scale normalization)
    blob_log[:, :, i] = (sigma ** 2) * laplacian ** 2

# Find local maxima across scale-space (the highest blob response at each pixel)
blobs = np.max(blob_log, axis=2)

# Threshold to detect blobs (You can adjust this threshold based on the image)
threshold = np.percentile(blobs, 99)  # Taking top 1% of the response
blobs[blobs < threshold] = 0

# Find contours of the blobs to detect circle-like structures
blobs_normalized = (blobs / blobs.max() * 255).astype(np.uint8)
contours, _ = cv.findContours(blobs_normalized, cv.RETR_EXTERNAL, cv.CHAIN_APPROX_SIMPLE)

# Initialize lists to store circle information
circles = []

for contour in contours:
    if len(contour) >= 5:  # Fit ellipses only to sufficiently large contours
        (x, y), (major_axis, minor_axis), angle = cv.fitEllipse(contour)
        # Take only circular shapes (with similar major and minor axes)
        if 0.9 <= major_axis / minor_axis <= 1.1:
            radius = (major_axis + minor_axis) / 4  # Approximate radius
            circles.append((int(x), int(y), int(radius)))

# Plot the original image with detected circles
output_image = image.copy()
for (x, y, r) in circles:
    cv.circle(output_image, (x, y), r, (0, 255, 0), 2)

# Report the largest circles
largest_circles = sorted(circles, key=lambda c: c[2], reverse=True)[:5]
print("Largest Circles Detected:")
for i, (x, y, r) in enumerate(largest_circles):
    print(f"Circle {i + 1}: Center=({x}, {y}), Radius={r}")

# Plotting the original image and blobs
fig, axes = plt.subplots(1, 2, figsize=(12, 6))

# Plot the original image with detected circles
axes[0].imshow(cv.cvtColor(output_image, cv.COLOR_BGR2RGB))
axes[0].set_title('Detected Circles')
axes[0].axis('off')

# Plot the blob response map
axes[1].imshow(blobs, cmap='gray')
axes[1].set_title('Blob Response Map')
axes[1].axis('off')

plt.tight_layout()
plt.show()

# Report the sigma values used
print(f"Sigma values used: {sigma_values}")
