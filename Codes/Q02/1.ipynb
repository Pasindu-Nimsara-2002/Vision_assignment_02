{
 "cells": [
  {
   "cell_type": "code",
   "execution_count": null,
   "metadata": {},
   "outputs": [],
   "source": [
    "def ransac_line(X, threshold, max_iter=1000):\n",
    "    best_inliers = []\n",
    "    best_model = None\n",
    "\n",
    "    for _ in range(max_iter):\n",
    "        sample = X[np.random.choice(X.shape[0], 2, replace=False)]\n",
    "        p1, p2 = sample\n",
    "        line = np.cross(np.append(p1, 1), np.append(p2, 1))  \n",
    "        a, b, d = line[0], line[1], line[2]\n",
    "        norm_factor = np.sqrt(a**2 + b**2)\n",
    "        a, b, d = a / norm_factor, b / norm_factor, d / norm_factor\n",
    "        normal = np.array([a, b])\n",
    "        distances = np.abs(np.dot(X, normal) + d) / np.linalg.norm(normal)\n",
    "        inliers = X[distances < threshold]\n",
    "        if len(inliers) > len(best_inliers):\n",
    "            best_inliers = inliers\n",
    "            best_model = (a, b, d)\n",
    "\n",
    "    return best_model, best_inliers\n"
   ]
  },
  {
   "cell_type": "code",
   "execution_count": null,
   "metadata": {},
   "outputs": [],
   "source": [
    "def fit_circle(points):\n",
    "    def calc_R(xc, yc):\n",
    "        return np.sqrt((points[:, 0] - xc) ** 2 + (points[:, 1] - yc) ** 2)\n",
    "    def f_2(c):\n",
    "        Ri = calc_R(*c)\n",
    "        return np.std(Ri)\n",
    "    center_estimate = np.mean(points, axis=0)\n",
    "    center_optimized = minimize(f_2, center_estimate).x\n",
    "    radii = calc_R(*center_optimized)\n",
    "    return center_optimized[0], center_optimized[1], np.mean(radii)\n",
    "\n",
    "def find_inliers(points, xc, yc, radius, threshold):\n",
    "    distances = np.sqrt((points[:, 0] - xc) ** 2 + (points[:, 1] - yc) ** 2)\n",
    "    inliers = points[np.abs(distances - radius) < threshold]\n",
    "    return inliers"
   ]
  }
 ],
 "metadata": {
  "kernelspec": {
   "display_name": "vision1",
   "language": "python",
   "name": "python3"
  },
  "language_info": {
   "name": "python",
   "version": "3.8.20"
  }
 },
 "nbformat": 4,
 "nbformat_minor": 2
}
